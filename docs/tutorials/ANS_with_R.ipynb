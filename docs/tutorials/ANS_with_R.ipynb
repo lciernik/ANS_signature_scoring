{
 "cells": [
  {
   "cell_type": "markdown",
   "id": "c14b3188",
   "metadata": {},
   "source": [
    "# Tutorial: Scoring with ANS in R\n",
    "\n",
    "The following tutorial shows how to score a signature with ANS in R. The jupyter notebook is heavily based on the `AddModuleScore` usage expamle of the Seurat tutorial, see [here](https://satijalab.org/seurat/reference/addmodulescore).\n",
    "\n",
    "Equally to the Seurat \n"
   ]
  },
  {
   "cell_type": "code",
   "execution_count": 2,
   "id": "d0c66588",
   "metadata": {},
   "outputs": [
    {
     "ename": "ERROR",
     "evalue": "Error in library(\"Seurat\"): there is no package called ‘Seurat’\n",
     "output_type": "error",
     "traceback": [
      "Error in library(\"Seurat\"): there is no package called ‘Seurat’\nTraceback:\n",
      "1. library(\"Seurat\")"
     ]
    }
   ],
   "source": [
    "library(\"Seurat\")\n",
    "source('../../src_R/adjusted_neighborhood_scoring.R')"
   ]
  },
  {
   "cell_type": "code",
   "execution_count": null,
   "id": "6bacbcb9",
   "metadata": {},
   "outputs": [],
   "source": [
    "data(\"pbmc_small\")"
   ]
  },
  {
   "cell_type": "code",
   "execution_count": null,
   "id": "ac1cfeee",
   "metadata": {},
   "outputs": [],
   "source": [
    "cd_features <- list(c(\n",
    "  'CD79B',\n",
    "  'CD79A',\n",
    "  'CD19',\n",
    "  'CD180',\n",
    "  'CD200',\n",
    "  'CD3D',\n",
    "  'CD2',\n",
    "  'CD3E',\n",
    "  'CD7',\n",
    "  'CD8A',\n",
    "  'CD14',\n",
    "  'CD1C',\n",
    "  'CD68',\n",
    "  'CD9',\n",
    "  'CD247'\n",
    "))"
   ]
  },
  {
   "cell_type": "code",
   "execution_count": null,
   "id": "d3ec4525",
   "metadata": {},
   "outputs": [],
   "source": [
    "pbmc_small <- AdjustedNeighborhoodScoring(\n",
    "  object = pbmc_small,\n",
    "  features = cd_features,\n",
    "  ctrl = 5,\n",
    "  name = 'CD_Features'\n",
    ")"
   ]
  },
  {
   "cell_type": "code",
   "execution_count": null,
   "id": "5fd6edfb",
   "metadata": {},
   "outputs": [],
   "source": [
    "head(x = pbmc_small[])"
   ]
  }
 ],
 "metadata": {
  "kernelspec": {
   "display_name": "R",
   "language": "R",
   "name": "ir"
  },
  "language_info": {
   "codemirror_mode": "r",
   "file_extension": ".r",
   "mimetype": "text/x-r-source",
   "name": "R",
   "pygments_lexer": "r",
   "version": "3.6.1"
  }
 },
 "nbformat": 4,
 "nbformat_minor": 5
}
