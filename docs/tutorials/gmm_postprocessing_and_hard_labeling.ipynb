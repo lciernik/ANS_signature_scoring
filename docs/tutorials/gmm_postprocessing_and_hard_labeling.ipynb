{
 "cells": [
  {
   "cell_type": "markdown",
   "id": "6692107b",
   "metadata": {
    "pycharm": {
     "name": "#%% md\n"
    }
   },
   "source": [
    "# Tutorial: GMM Postprocessing and Hard Labeling \n",
    "\n",
    "The following jupyter notebook focuses on the GMM postprocessing and hard labeling approach considered in the article of this package. The GMM postprocessing allows mapping scores to probabilities. During hard labeling, we aim to assign each cell a state based on the signature scores associated with the corresponding state. Depending on our data assumptions, we either consider that a cell belongs to one of the signature associated states or none of them. Therefore, we will consider two scenarios on the preprocessed PBMC dataset also used in the `basic_usage.ipynb` jupyter notebook. :\n",
    "1. We score **three signatures**, one associated with each of the three available cell states: B-, Monocytes, and NK-cells. Since each cell belongs to one of the three cell-types, we select **K=3** during  GMM postprocessing. Finally, we can assign the cell state associated with the highest-scoring/ highest probability signature to a cell. \n",
    "2. We score **two signatures** associated with two of the three available cell states. Now we assume that a cell can belong to either one of the cell states we score **or** to none. Therefore we select **K=2+1** during GMM postprocessing (+ 1 being the remaining class). Hard labeling on probabilities is based on selecting the cell state associated with the signature with the highest probability. The process on scores, however, requires finding the correct signature-specific thresholds for each signature and then assigning a cell with the state of the remaining class if its scores are below the signature-specific thresholds. See below for more information. \n",
    "\n",
    "*We will use the scored data from the `basic_usage.ipynb` jupyter notebook.*\n",
    "\n",
    "**Structure**:\n",
    "- Loading preprocessed and scored data \n",
    "- GMM Postprocessing \n",
    "- Hard Labeling"
   ]
  },
  {
   "cell_type": "code",
   "execution_count": null,
   "id": "d91b8636",
   "metadata": {
    "pycharm": {
     "name": "#%%\n"
    }
   },
   "outputs": [],
   "source": [
    "import numpy as np \n",
    "import scanpy as sc\n",
    "import pandas as pd\n",
    "from sklearn.metrics import f1_score\n",
    "\n",
    "from scipy.signal import argrelmin\n",
    "import matplotlib.pyplot as plt\n",
    "import seaborn as sns\n",
    "\n",
    "from signaturescoring.scoring_methods.gmm_postprocessing import GMMPostprocessor\n",
    "\n",
    "sc.settings.verbosity = 0"
   ]
  },
  {
   "cell_type": "markdown",
   "id": "75aa76f0",
   "metadata": {
    "pycharm": {
     "name": "#%% md\n"
    }
   },
   "source": [
    "## Load preprocessed and scored data"
   ]
  },
  {
   "cell_type": "code",
   "execution_count": null,
   "id": "8cd79fc0",
   "metadata": {
    "pycharm": {
     "name": "#%%\n"
    }
   },
   "outputs": [],
   "source": [
    "adata = sc.read_h5ad('tut_data/pp_pbmc_b_mono_nk_scored.h5ad')\n",
    "\n",
    "## To avoid errors \n",
    "if 'log1p' in adata.uns_keys():\n",
    "    adata.uns['log1p']['base'] = None\n",
    "else:\n",
    "    adata.uns['log1p'] = {'base': None}"
   ]
  },
  {
   "cell_type": "code",
   "execution_count": null,
   "id": "eb9f363f",
   "metadata": {
    "pycharm": {
     "name": "#%%\n"
    }
   },
   "outputs": [],
   "source": [
    "adata.obs['celltype.l1'].value_counts()"
   ]
  },
  {
   "cell_type": "markdown",
   "id": "c1f79638",
   "metadata": {
    "pycharm": {
     "name": "#%% md\n"
    }
   },
   "source": [
    "## GMM Postprocessing \n",
    "As previously explained we would like to map the signature scores to probabilities using a GMM. The `GMMPostprocessor` first trains a GMM on the passed score columns (3 columns in scenario 1, 2 columns in scenario 2). Then we assign a cluster to a cell state based on the correlation of the pobabilities and the signature scores."
   ]
  },
  {
   "cell_type": "markdown",
   "id": "db4b6e4d",
   "metadata": {
    "pycharm": {
     "name": "#%% md\n"
    }
   },
   "source": [
    "### Scenario 1: Three signatures"
   ]
  },
  {
   "cell_type": "code",
   "execution_count": null,
   "id": "123df533",
   "metadata": {
    "pycharm": {
     "name": "#%%\n"
    }
   },
   "outputs": [],
   "source": [
    "scoring_names_3_sigs = list(adata.obs.columns[-(8*3):])\n",
    "scoring_names_3_sigs"
   ]
  },
  {
   "cell_type": "code",
   "execution_count": null,
   "id": "e415de42",
   "metadata": {
    "pycharm": {
     "name": "#%%\n"
    }
   },
   "outputs": [],
   "source": [
    "## Helper list with colum names \n",
    "scoring_names_3_gmm = []"
   ]
  },
  {
   "cell_type": "code",
   "execution_count": null,
   "id": "fbfe5384",
   "metadata": {
    "pycharm": {
     "name": "#%%\n"
    }
   },
   "outputs": [],
   "source": [
    "# For the THREE cell state signature score colums of each scoring method we fit a \n",
    "# GMM to convert the scores into probabilities\n",
    "for i in range(0, len(scoring_names_3_sigs), 3):\n",
    "    \n",
    "    # initialize GMMPostprocessor\n",
    "    gmm_post = GMMPostprocessor(\n",
    "        n_components=3\n",
    "    )\n",
    "    \n",
    "    # fit the GMM model on the 3 columns of the scores \n",
    "    store_name_pred, store_names_proba, _ = gmm_post.fit_and_predict(adata, scoring_names_3_sigs[i:(i+3)])\n",
    "    \n",
    "    # assign clusters to signatures \n",
    "    assignments = gmm_post.assign_clusters_to_signatures(adata, scoring_names_3_sigs[i:(i+3)], store_names_proba, plot=False)\n",
    "    print(assignments)\n",
    "    \n",
    "    for key, val in assignments.items():\n",
    "        adata.obs[key+'_gmm_3sigs'] = adata.obs[val].copy()\n",
    "        scoring_names_3_gmm.append(key+'_gmm_3sigs')"
   ]
  },
  {
   "cell_type": "markdown",
   "id": "18de4afd",
   "metadata": {
    "pycharm": {
     "name": "#%% md\n"
    }
   },
   "source": [
    "### Scenario 2: Two signatures"
   ]
  },
  {
   "cell_type": "code",
   "execution_count": null,
   "id": "a108120d",
   "metadata": {
    "pycharm": {
     "name": "#%%\n"
    }
   },
   "outputs": [],
   "source": [
    "scoring_names_2_sigs = [x for x in scoring_names_3_sigs if 'NK' not in x] \n",
    "scoring_names_2_sigs"
   ]
  },
  {
   "cell_type": "code",
   "execution_count": null,
   "id": "a383945f",
   "metadata": {
    "pycharm": {
     "name": "#%%\n"
    }
   },
   "outputs": [],
   "source": [
    "## Helper list with colum names \n",
    "scoring_names_2_gmm = []"
   ]
  },
  {
   "cell_type": "code",
   "execution_count": null,
   "id": "cf3ce7fd",
   "metadata": {
    "pycharm": {
     "name": "#%%\n"
    }
   },
   "outputs": [],
   "source": [
    "# For the TWO cell state signature score colums of each scoring method we fit a \n",
    "# GMM to convert the scores into probabilities\n",
    "\n",
    "for i in range(0, len(scoring_names_2_sigs), 2):\n",
    "    # initialize GMMPostprocessor\n",
    "    gmm_post = GMMPostprocessor(\n",
    "        n_components=3\n",
    "    )\n",
    "    \n",
    "    # fit the GMM model on the 2 columns of the scores \n",
    "    store_name_pred, store_names_proba, _ = gmm_post.fit_and_predict(adata, scoring_names_2_sigs[i:(i+2)])\n",
    "    \n",
    "    # assign clusters to signatures\n",
    "    assignments = gmm_post.assign_clusters_to_signatures(adata, scoring_names_2_sigs[i:(i+2)], store_names_proba, plot=False)\n",
    "    \n",
    "    print(assignments)\n",
    "    for key, val in assignments.items():\n",
    "        if key =='rest':\n",
    "            continue\n",
    "        adata.obs[key+'_gmm_2sigs'] = adata.obs[val].copy()\n",
    "        scoring_names_2_gmm.append(key+'_gmm_2sigs')\n",
    "    \n",
    "    curr_name = '_'.join(scoring_names_2_sigs[i].split('_')[0:-1])\n",
    "    adata.obs[curr_name +'_NK_gmm_2sigs'] = adata.obs[next(iter(assignments['rest']))].copy()\n",
    "    scoring_names_2_gmm.append(curr_name +'_NK_gmm_2sigs')"
   ]
  },
  {
   "cell_type": "code",
   "execution_count": null,
   "id": "893b5cf0",
   "metadata": {
    "pycharm": {
     "name": "#%%\n"
    }
   },
   "outputs": [],
   "source": [
    "## remove all unused obs columns\n",
    "adata.obs.drop(columns=[x for x in adata.obs.columns if ('gmm' in x.lower()) and ('sigs' not in x.lower())], \n",
    "               inplace=True)"
   ]
  },
  {
   "cell_type": "markdown",
   "id": "e8d64421",
   "metadata": {
    "pycharm": {
     "name": "#%% md\n"
    }
   },
   "source": [
    "### Visualizing GMM pobabilites"
   ]
  },
  {
   "cell_type": "code",
   "execution_count": null,
   "id": "d04cddc4",
   "metadata": {
    "pycharm": {
     "name": "#%%\n"
    }
   },
   "outputs": [],
   "source": [
    "sc.tl.pca(adata)\n",
    "sc.pp.neighbors(adata)\n",
    "sc.tl.umap(adata)"
   ]
  },
  {
   "cell_type": "code",
   "execution_count": null,
   "id": "df9866c6",
   "metadata": {
    "scrolled": false,
    "pycharm": {
     "name": "#%%\n"
    }
   },
   "outputs": [],
   "source": [
    "# scenario 1 probabilities\n",
    "sc.pl.umap(adata, color=['celltype.l1', 'celltype.l2', 'celltype.l3']+scoring_names_3_gmm, ncols=3)"
   ]
  },
  {
   "cell_type": "code",
   "execution_count": null,
   "id": "f4354947",
   "metadata": {
    "pycharm": {
     "name": "#%%\n"
    }
   },
   "outputs": [],
   "source": [
    "# scenario 2 probabilities\n",
    "sc.pl.umap(adata, color=['celltype.l1', 'celltype.l2', 'celltype.l3']+scoring_names_2_gmm, ncols=3)"
   ]
  },
  {
   "cell_type": "markdown",
   "id": "e55ed629",
   "metadata": {
    "pycharm": {
     "name": "#%% md\n"
    }
   },
   "source": [
    "## Hard Labeling"
   ]
  },
  {
   "cell_type": "markdown",
   "id": "5a6f9afa",
   "metadata": {
    "pycharm": {
     "name": "#%% md\n"
    }
   },
   "source": [
    "### Scenario 1: Three signatures\n",
    "As mentioned in the introduction of this jupyter notebook, we can apply hard labeling in this scenario by assigning the cell state associated with the highest-scoring signature/signature with the highest probability to each cell.  \n",
    "\n",
    "For both, scores and probabilities, we select the score/probability columns belonging to each scoring method and assign the label to a cell with the rowwise max.  "
   ]
  },
  {
   "cell_type": "code",
   "execution_count": null,
   "id": "9272fd0b",
   "metadata": {
    "pycharm": {
     "name": "#%%\n"
    }
   },
   "outputs": [],
   "source": [
    "all_pred_cols_1 = []"
   ]
  },
  {
   "cell_type": "markdown",
   "id": "5659931e",
   "metadata": {
    "pycharm": {
     "name": "#%% md\n"
    }
   },
   "source": [
    "##### Scores "
   ]
  },
  {
   "cell_type": "code",
   "execution_count": null,
   "id": "ed4de15a",
   "metadata": {
    "pycharm": {
     "name": "#%%\n"
    }
   },
   "outputs": [],
   "source": [
    "for i in range(0, len(scoring_names_3_sigs), 3):\n",
    "    # get the name of the scoring method\n",
    "    method = scoring_names_3_sigs[i].rsplit('_',1)[0]\n",
    "    # select argmax for each cell (each row)\n",
    "    curr_val = adata.obs[scoring_names_3_sigs[i:(i+3)]].idxmax(axis=\"columns\")\n",
    "    curr_val = curr_val.apply(lambda x: x.rsplit('_',1)[1])\n",
    "    # store prediction \n",
    "    adata.obs[f'{method}_scores_HL_3sigs'] = curr_val\n",
    "    all_pred_cols_1.append(f'{method}_scores_HL_3sigs')"
   ]
  },
  {
   "cell_type": "markdown",
   "id": "8f5d3946",
   "metadata": {
    "pycharm": {
     "name": "#%% md\n"
    }
   },
   "source": [
    "##### Probabilities "
   ]
  },
  {
   "cell_type": "code",
   "execution_count": null,
   "id": "8a78e2e2",
   "metadata": {
    "pycharm": {
     "name": "#%%\n"
    }
   },
   "outputs": [],
   "source": [
    "for i in range(0, len(scoring_names_3_gmm), 3):\n",
    "    # get the name of the scoring method\n",
    "    method = scoring_names_3_gmm[i].rsplit('_',3)[0]\n",
    "    # select argmax for each cell (each row)\n",
    "    curr_val= adata.obs[scoring_names_3_gmm[i:(i+3)]].idxmax(axis=\"columns\")\n",
    "    curr_val=curr_val.apply(lambda x: x.rsplit('_',3)[1])\n",
    "    # store prediction \n",
    "    adata.obs[f'{method}_probabilities_HL_3sigs'] = curr_val\n",
    "    all_pred_cols_1.append(f'{method}_probabilities_HL_3sigs')"
   ]
  },
  {
   "cell_type": "markdown",
   "id": "08443fb9",
   "metadata": {
    "pycharm": {
     "name": "#%% md\n"
    }
   },
   "source": [
    "### Scenario 2: Two signatures\n",
    "In the second scenario, hard labeling is more challenging based on scores than on probabilities. Hard labeling on probabilities is done equivalently to scenario 1."
   ]
  },
  {
   "cell_type": "code",
   "execution_count": null,
   "id": "21f8a7f2",
   "metadata": {
    "pycharm": {
     "name": "#%%\n"
    }
   },
   "outputs": [],
   "source": [
    "all_pred_cols_2 = []"
   ]
  },
  {
   "cell_type": "markdown",
   "id": "ec902ed7",
   "metadata": {
    "pycharm": {
     "name": "#%% md\n"
    }
   },
   "source": [
    "##### Scores \n",
    "When hard-labeling on scores in this scenario, we require to find the adequate score-thresholds for each signature. After selecting a B- and Monocyte-threshold, we can simply assign cells with scores below both thresholds as NK-cells. \n",
    "To find the thresholds we find the minima in the score histograms of both signatures. We will visualize the density plots to identify theses thresholds."
   ]
  },
  {
   "cell_type": "code",
   "execution_count": null,
   "id": "ed4a1dba",
   "metadata": {
    "pycharm": {
     "name": "#%%\n"
    }
   },
   "outputs": [],
   "source": [
    "def plot_score_distributions(method, scores_B, scores_Mono):\n",
    "    plt.figure(figsize=(10,6))\n",
    "    hist_one = np.histogram(scores_B.values, bins = 100, density=True)\n",
    "    x_min_B = argrelmin(hist_one[0], order=3)\n",
    "    plt.plot(hist_one[0])\n",
    "    for e in x_min_B[0]:\n",
    "        plt.axvline(e, c='r', alpha=0.5)\n",
    "        plt.text(e,max(hist_one[0]),e)\n",
    "    plt.axvline(e, c='r', alpha=0.5, label=f'mins B scores dist')\n",
    "\n",
    "\n",
    "    hist_two = np.histogram(scores_Mono.values, bins = 100, density=True)\n",
    "    x_min_Mono = argrelmin(hist_two[0], order=3)\n",
    "    plt.plot(hist_two[0])\n",
    "    plt.title(method, fontsize=18)\n",
    "    for e in x_min_Mono[0]:\n",
    "        plt.axvline(e, c='g', alpha=0.5)\n",
    "        plt.text(e,max(hist_two[0]),e)\n",
    "    plt.axvline(e, c='g', alpha=0.5, label=f'mins Mono scores dist')\n",
    "    plt.legend(bbox_to_anchor=(1, 0.5))\n",
    "    plt.show()\n",
    "    \n",
    "    \n",
    "def get_score_threshs(selected_thresh, scores_B, scores_Mono):\n",
    "    hist_one = np.histogram(scores_B.values, bins = 100, density=True)\n",
    "    hist_two = np.histogram(scores_Mono.values, bins = 100, density=True)\n",
    "    thresh_one = hist_one[1][selected_thresh[0]]          \n",
    "    thresh_two = hist_two[1][selected_thresh[1]]\n",
    "    return [thresh_one, thresh_two]"
   ]
  },
  {
   "cell_type": "code",
   "execution_count": null,
   "id": "78cf99f4",
   "metadata": {
    "scrolled": true,
    "pycharm": {
     "name": "#%%\n"
    }
   },
   "outputs": [],
   "source": [
    "for i in range(0, len(scoring_names_2_sigs), 2):\n",
    "    method = scoring_names_2_sigs[i].rsplit('_',1)[0]\n",
    "    # convert threshs to score threshs \n",
    "    B_scores = adata.obs[scoring_names_2_sigs[i]]\n",
    "    M_scores = adata.obs[scoring_names_2_sigs[i+1]]\n",
    "    plot_score_distributions(method, B_scores, M_scores)"
   ]
  },
  {
   "cell_type": "code",
   "execution_count": null,
   "id": "73d059e1",
   "metadata": {
    "pycharm": {
     "name": "#%%\n"
    }
   },
   "outputs": [],
   "source": [
    "## Select manually fromg the figures the disered thresholds and convert them then to score thresholds\n",
    "selected_thresh = {\n",
    "    'ANS': [32, 36],\n",
    "    'Scanpy': [36, 42],\n",
    "    'Seurat': [37, 37],\n",
    "    'Seurat_AG': [35, 30],\n",
    "    'Seurat_LVG': [41, 40],\n",
    "    'Jasmine_LH': [39, 51],\n",
    "    'Jasmine_OR': [33, 41],\n",
    "    'UCell': [26, 38],\n",
    "}"
   ]
  },
  {
   "cell_type": "code",
   "execution_count": null,
   "id": "591f3435",
   "metadata": {
    "pycharm": {
     "name": "#%%\n"
    }
   },
   "outputs": [],
   "source": [
    "for (method, threshs), i in zip(selected_thresh.items(), range(0, len(scoring_names_2_sigs), 2)):\n",
    "    # convert threshs to score threshs \n",
    "    B_scores = adata.obs[scoring_names_2_sigs[i]]\n",
    "    M_scores = adata.obs[scoring_names_2_sigs[i+1]]\n",
    "    [B_thresh, M_thresh] = get_score_threshs(threshs, B_scores, M_scores)\n",
    "    \n",
    "    # assign cell state to cells.\n",
    "    curr_val = adata.obs[scoring_names_2_sigs[i:(i+2)]].idxmax(axis=\"columns\")\n",
    "    curr_val = curr_val.apply(lambda x: x.rsplit('_',1)[1])\n",
    "    curr_val.loc[(B_scores<B_thresh)&((M_scores<M_thresh))] = 'NK'\n",
    "    # store prediction \n",
    "    adata.obs[f'{method}_scores_HL_2sigs'] = curr_val\n",
    "    all_pred_cols_2.append(f'{method}_scores_HL_2sigs')"
   ]
  },
  {
   "cell_type": "markdown",
   "id": "4bcc6df2",
   "metadata": {
    "pycharm": {
     "name": "#%% md\n"
    }
   },
   "source": [
    "##### Probabilities "
   ]
  },
  {
   "cell_type": "code",
   "execution_count": null,
   "id": "1d82bde5",
   "metadata": {
    "pycharm": {
     "name": "#%%\n"
    }
   },
   "outputs": [],
   "source": [
    "for i in range(0, len(scoring_names_2_gmm), 3):\n",
    "    # get the name of the scoring method\n",
    "    method = scoring_names_2_gmm[i].rsplit('_',3)[0]\n",
    "    # select argmax for each cell (each row)\n",
    "    curr_val= adata.obs[scoring_names_2_gmm[i:(i+3)]].idxmax(axis=\"columns\")\n",
    "    curr_val=curr_val.apply(lambda x: x.rsplit('_',3)[1])\n",
    "    # store prediction \n",
    "    adata.obs[f'{method}_probabilities_HL_2sigs'] = curr_val\n",
    "    all_pred_cols_2.append(f'{method}_probabilities_HL_2sigs')"
   ]
  },
  {
   "cell_type": "markdown",
   "id": "37c72beb",
   "metadata": {
    "pycharm": {
     "name": "#%% md\n"
    }
   },
   "source": [
    "## Performances "
   ]
  },
  {
   "cell_type": "code",
   "execution_count": null,
   "id": "5c1e5a57",
   "metadata": {
    "pycharm": {
     "name": "#%%\n"
    }
   },
   "outputs": [],
   "source": [
    "gt = adata.obs['celltype.l1']"
   ]
  },
  {
   "cell_type": "markdown",
   "id": "78edad3d",
   "metadata": {
    "pycharm": {
     "name": "#%% md\n"
    }
   },
   "source": [
    "### Scenario 1: Three signatures"
   ]
  },
  {
   "cell_type": "code",
   "execution_count": null,
   "id": "88651a42",
   "metadata": {
    "pycharm": {
     "name": "#%%\n"
    }
   },
   "outputs": [],
   "source": [
    "res = []\n",
    "for pred_col in all_pred_cols_1:\n",
    "    splitted = pred_col.rsplit('_',3)\n",
    "    \n",
    "    pred = adata.obs[pred_col].copy()\n",
    "    \n",
    "    f1sc = f1_score(gt, pred, average='weighted')\n",
    "    \n",
    "    res.append({\n",
    "       'method':splitted[0], \n",
    "       'mode':splitted[1],\n",
    "       'f1-score':f1sc\n",
    "    })\n",
    "res = pd.DataFrame(res)\n",
    "res = res.pivot(index='method', columns='mode', values='f1-score')\n"
   ]
  },
  {
   "cell_type": "code",
   "execution_count": null,
   "id": "93f6e3d9",
   "metadata": {
    "pycharm": {
     "name": "#%%\n"
    }
   },
   "outputs": [],
   "source": [
    "plt.figure(figsize=(10,10))\n",
    "sns.heatmap(res, annot=True)\n",
    "plt.title('(Weighted) F1-score hard labeling with scores/probabilities');"
   ]
  },
  {
   "cell_type": "markdown",
   "id": "b990e54a",
   "metadata": {
    "pycharm": {
     "name": "#%% md\n"
    }
   },
   "source": [
    "### Scenario 2: Two signatures"
   ]
  },
  {
   "cell_type": "code",
   "execution_count": null,
   "id": "ba95202a",
   "metadata": {
    "pycharm": {
     "name": "#%%\n"
    }
   },
   "outputs": [],
   "source": [
    "res = []\n",
    "for pred_col in all_pred_cols_2:\n",
    "    splitted = pred_col.rsplit('_',3)\n",
    "    \n",
    "    pred = adata.obs[pred_col].copy()\n",
    "    \n",
    "    f1sc = f1_score(gt, pred, average='weighted')\n",
    "    \n",
    "    res.append({\n",
    "       'method':splitted[0], \n",
    "       'mode':splitted[1],\n",
    "       'f1-score':f1sc\n",
    "    })\n",
    "res = pd.DataFrame(res)\n",
    "res = res.pivot(index='method', columns='mode', values='f1-score')\n"
   ]
  },
  {
   "cell_type": "code",
   "execution_count": null,
   "id": "74cb1438",
   "metadata": {
    "pycharm": {
     "name": "#%%\n"
    }
   },
   "outputs": [],
   "source": [
    "plt.figure(figsize=(10,10))\n",
    "sns.heatmap(res, annot=True)\n",
    "plt.title('(Weighted) F1-score hard labeling with scores/probabilities');"
   ]
  }
 ],
 "metadata": {
  "kernelspec": {
   "display_name": "Python 3 (ipykernel)",
   "language": "python",
   "name": "python3"
  },
  "language_info": {
   "codemirror_mode": {
    "name": "ipython",
    "version": 3
   },
   "file_extension": ".py",
   "mimetype": "text/x-python",
   "name": "python",
   "nbconvert_exporter": "python",
   "pygments_lexer": "ipython3",
   "version": "3.8.12"
  }
 },
 "nbformat": 4,
 "nbformat_minor": 5
}