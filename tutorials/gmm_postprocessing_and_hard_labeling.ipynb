{
 "cells": [
  {
   "cell_type": "markdown",
   "id": "5b66b96e",
   "metadata": {},
   "source": [
    "# Tutorial: GMM Postprocessing and Hard Labeling \n",
    "\n",
    "The following jupyter notebook focuses on the GMM postprocessing and hard labeling approach considered in the article of this package. The GMM postprocessing allows mapping scores to probabilities. During hard labeling, we aim to assign each cell a state based on the signature scores associated with the corresponding state. Depending on our data assumptions, we either consider that a cell belongs to one of the signature associated states or none of them. Therefore, we will consider two scenarios on the preprocessed PBMC dataset also used in the `basic_usage.ipynb` jupyter notebook. :\n",
    "1. We score **three signatures**, one associated with each of the three available cell states: B-, Monocytes, and NK-cells. Since each cell belongs to one of the three cell-types, we select **K=3** during  GMM postprocessing. Finally, we can assign the cell state associated with the highest-scoring/ highest probability signature to a cell. \n",
    "2. We score **two signatures** associated with two of the three available cell states. Now we assume that a cell can belong to either one of the cell states we score **or** to none. Therefore we select **K=2+1** during GMM postprocessing (+ 1 being the remaining class). Hard labeling on probabilities is based on selecting the cell state associated with the signature with the highest probability. The process on scores, however, requires finding the correct signature-specific thresholds for each signature and then assigning a cell with the state of the remaining class if its scores are below the signature-specific thresholds. See below for more information. \n",
    "\n",
    "*We will use the scored data from the `basic_usage.ipynb` jupyter notebook.*"
   ]
  },
  {
   "cell_type": "code",
   "execution_count": 1,
   "id": "6f80da19",
   "metadata": {},
   "outputs": [],
   "source": [
    "import scanpy as sc\n",
    "import pandas as pd\n",
    "\n",
    "from signaturescoring.scoring_methods.gmm_postprocessing import GMMPostprocessor\n",
    "\n",
    "sc.settings.verbosity = 0"
   ]
  },
  {
   "cell_type": "markdown",
   "id": "f5f0f49f",
   "metadata": {},
   "source": [
    "## Load preprocessed and scored data"
   ]
  },
  {
   "cell_type": "code",
   "execution_count": 2,
   "id": "c9860aa7",
   "metadata": {},
   "outputs": [],
   "source": [
    "adata = sc.read_h5ad('tut_data/pp_pbmc_b_mono_nk_scored.h5ad')\n",
    "\n",
    "## To avoid errors \n",
    "if 'log1p' in adata.uns_keys():\n",
    "    adata.uns['log1p']['base'] = None\n",
    "else:\n",
    "    adata.uns['log1p'] = {'base': None}"
   ]
  },
  {
   "cell_type": "code",
   "execution_count": 3,
   "id": "f3db3c19",
   "metadata": {},
   "outputs": [
    {
     "data": {
      "text/plain": [
       "Mono    43553\n",
       "NK      14408\n",
       "B       10613\n",
       "Name: celltype.l1, dtype: int64"
      ]
     },
     "execution_count": 3,
     "metadata": {},
     "output_type": "execute_result"
    }
   ],
   "source": [
    "adata.obs['celltype.l1'].value_counts()"
   ]
  },
  {
   "cell_type": "markdown",
   "id": "6412d5bd",
   "metadata": {},
   "source": [
    "## GMM Postprocessing \n",
    "As previously explained we would like to map the signature scores to probabilities using a GMM. The `GMMPostprocessor` first trains a GMM on the passed score columns (3 columns in scenario 1, 2 columns in scenario 2). Then we assign a cluster to a cell state based on the correlation of the pobabilities and the signature scores."
   ]
  },
  {
   "cell_type": "markdown",
   "id": "e215f945",
   "metadata": {},
   "source": [
    "### Scenario 1: Three signatures"
   ]
  },
  {
   "cell_type": "code",
   "execution_count": 4,
   "id": "3bb085de",
   "metadata": {},
   "outputs": [
    {
     "data": {
      "text/plain": [
       "['ANS_B',\n",
       " 'ANS_Mono',\n",
       " 'ANS_NK',\n",
       " 'Scanpy_B',\n",
       " 'Scanpy_Mono',\n",
       " 'Scanpy_NK',\n",
       " 'Tirosh_B',\n",
       " 'Tirosh_Mono',\n",
       " 'Tirosh_NK',\n",
       " 'Tirosh_AG_B',\n",
       " 'Tirosh_AG_Mono',\n",
       " 'Tirosh_AG_NK',\n",
       " 'Tirosh_LVG_B',\n",
       " 'Tirosh_LVG_Mono',\n",
       " 'Tirosh_LVG_NK',\n",
       " 'Jasmine_LH_B',\n",
       " 'Jasmine_LH_Mono',\n",
       " 'Jasmine_LH_NK',\n",
       " 'Jasmine_OR_B',\n",
       " 'Jasmine_OR_Mono',\n",
       " 'Jasmine_OR_NK',\n",
       " 'UCell_B',\n",
       " 'UCell_Mono',\n",
       " 'UCell_NK']"
      ]
     },
     "execution_count": 4,
     "metadata": {},
     "output_type": "execute_result"
    }
   ],
   "source": [
    "scoring_names_3_sigs = list(adata.obs.columns[-(8*3):])\n",
    "scoring_names_3_sigs"
   ]
  },
  {
   "cell_type": "code",
   "execution_count": 5,
   "id": "a484bb08",
   "metadata": {},
   "outputs": [],
   "source": [
    "## Helper list with colum names \n",
    "scoring_names_3_gmm = []"
   ]
  },
  {
   "cell_type": "code",
   "execution_count": 6,
   "id": "f6bee783",
   "metadata": {},
   "outputs": [
    {
     "name": "stdout",
     "output_type": "stream",
     "text": [
      "{'ANS_B': 'ANS_2_GMM_proba', 'ANS_Mono': 'ANS_0_GMM_proba', 'ANS_NK': 'ANS_1_GMM_proba'}\n",
      "{'Scanpy_B': 'Scanpy_2_GMM_proba', 'Scanpy_Mono': 'Scanpy_1_GMM_proba', 'Scanpy_NK': 'Scanpy_0_GMM_proba'}\n",
      "{'Tirosh_B': 'Tirosh_2_GMM_proba', 'Tirosh_Mono': 'Tirosh_1_GMM_proba', 'Tirosh_NK': 'Tirosh_0_GMM_proba'}\n",
      "{'Tirosh_AG_B': 'Tirosh_AG_2_GMM_proba', 'Tirosh_AG_Mono': 'Tirosh_AG_0_GMM_proba', 'Tirosh_AG_NK': 'Tirosh_AG_1_GMM_proba'}\n",
      "{'Tirosh_LVG_B': 'Tirosh_LVG_2_GMM_proba', 'Tirosh_LVG_Mono': 'Tirosh_LVG_0_GMM_proba', 'Tirosh_LVG_NK': 'Tirosh_LVG_1_GMM_proba'}\n",
      "{'Jasmine_LH_B': 'Jasmine_LH_2_GMM_proba', 'Jasmine_LH_Mono': 'Jasmine_LH_1_GMM_proba', 'Jasmine_LH_NK': 'Jasmine_LH_0_GMM_proba'}\n",
      "{'Jasmine_OR_B': 'Jasmine_OR_2_GMM_proba', 'Jasmine_OR_Mono': 'Jasmine_OR_1_GMM_proba', 'Jasmine_OR_NK': 'Jasmine_OR_0_GMM_proba'}\n",
      "{'UCell_B': 'UCell_0_GMM_proba', 'UCell_Mono': 'UCell_1_GMM_proba', 'UCell_NK': 'UCell_2_GMM_proba'}\n"
     ]
    }
   ],
   "source": [
    "# For the THREE cell state signature score colums of each scoring method we fit a \n",
    "# GMM to convert the scores into probabilities\n",
    "for i in range(0, len(scoring_names_3_sigs), 3):\n",
    "    \n",
    "    # initialize GMMPostprocessor\n",
    "    gmm_post = GMMPostprocessor(\n",
    "        n_components=3\n",
    "    )\n",
    "    \n",
    "    # fit the GMM model on the 3 columns of the scores \n",
    "    store_name_pred, store_names_proba, _ = gmm_post.fit_and_predict(adata, scoring_names_3_sigs[i:(i+3)])\n",
    "    \n",
    "    # assign clusters to signatures \n",
    "    assignments = gmm_post.assign_clusters_to_signatures(adata, scoring_names_3_sigs[i:(i+3)], store_names_proba, plot=False)\n",
    "    print(assignments)\n",
    "    \n",
    "    for key, val in assignments.items():\n",
    "        adata.obs[key+'_gmm_3sigs'] = adata.obs[val].copy()\n",
    "        scoring_names_3_gmm.append(key+'_gmm_3sigs')"
   ]
  },
  {
   "cell_type": "markdown",
   "id": "33877705",
   "metadata": {},
   "source": [
    "### Scenario 2: Two signatures"
   ]
  },
  {
   "cell_type": "code",
   "execution_count": 7,
   "id": "7e09a5d0",
   "metadata": {},
   "outputs": [
    {
     "data": {
      "text/plain": [
       "['ANS_B',\n",
       " 'ANS_Mono',\n",
       " 'Scanpy_B',\n",
       " 'Scanpy_Mono',\n",
       " 'Tirosh_B',\n",
       " 'Tirosh_Mono',\n",
       " 'Tirosh_AG_B',\n",
       " 'Tirosh_AG_Mono',\n",
       " 'Tirosh_LVG_B',\n",
       " 'Tirosh_LVG_Mono',\n",
       " 'Jasmine_LH_B',\n",
       " 'Jasmine_LH_Mono',\n",
       " 'Jasmine_OR_B',\n",
       " 'Jasmine_OR_Mono',\n",
       " 'UCell_B',\n",
       " 'UCell_Mono']"
      ]
     },
     "execution_count": 7,
     "metadata": {},
     "output_type": "execute_result"
    }
   ],
   "source": [
    "scoring_names_2_sigs = [x for x in scoring_names_3_sigs if 'NK' not in x] \n",
    "scoring_names_2_sigs"
   ]
  },
  {
   "cell_type": "code",
   "execution_count": 8,
   "id": "ef821e23",
   "metadata": {},
   "outputs": [],
   "source": [
    "## Helper list with colum names \n",
    "scoring_names_2_gmm = []"
   ]
  },
  {
   "cell_type": "code",
   "execution_count": 9,
   "id": "7ddab167",
   "metadata": {},
   "outputs": [
    {
     "name": "stdout",
     "output_type": "stream",
     "text": [
      "{'ANS_B': 'ANS_2_GMM_proba', 'ANS_Mono': 'ANS_1_GMM_proba', 'rest': {'ANS_0_GMM_proba'}}\n",
      "{'Scanpy_B': 'Scanpy_2_GMM_proba', 'Scanpy_Mono': 'Scanpy_1_GMM_proba', 'rest': {'Scanpy_0_GMM_proba'}}\n",
      "{'Tirosh_B': 'Tirosh_1_GMM_proba', 'Tirosh_Mono': 'Tirosh_0_GMM_proba', 'rest': {'Tirosh_2_GMM_proba'}}\n",
      "{'Tirosh_AG_B': 'Tirosh_AG_1_GMM_proba', 'Tirosh_AG_Mono': 'Tirosh_AG_0_GMM_proba', 'rest': {'Tirosh_AG_2_GMM_proba'}}\n",
      "{'Tirosh_LVG_B': 'Tirosh_LVG_2_GMM_proba', 'Tirosh_LVG_Mono': 'Tirosh_LVG_1_GMM_proba', 'rest': {'Tirosh_LVG_0_GMM_proba'}}\n",
      "{'Jasmine_LH_B': 'Jasmine_LH_1_GMM_proba', 'Jasmine_LH_Mono': 'Jasmine_LH_2_GMM_proba', 'rest': {'Jasmine_LH_0_GMM_proba'}}\n",
      "{'Jasmine_OR_B': 'Jasmine_OR_1_GMM_proba', 'Jasmine_OR_Mono': 'Jasmine_OR_0_GMM_proba', 'rest': {'Jasmine_OR_2_GMM_proba'}}\n",
      "{'UCell_B': 'UCell_1_GMM_proba', 'UCell_Mono': 'UCell_0_GMM_proba', 'rest': {'UCell_2_GMM_proba'}}\n"
     ]
    }
   ],
   "source": [
    "# For the TWO cell state signature score colums of each scoring method we fit a \n",
    "# GMM to convert the scores into probabilities\n",
    "\n",
    "for i in range(0, len(scoring_names_2_sigs), 2):\n",
    "    # initialize GMMPostprocessor\n",
    "    gmm_post = GMMPostprocessor(\n",
    "        n_components=3\n",
    "    )\n",
    "    \n",
    "    # fit the GMM model on the 2 columns of the scores \n",
    "    store_name_pred, store_names_proba, _ = gmm_post.fit_and_predict(adata, scoring_names_2_sigs[i:(i+2)])\n",
    "    \n",
    "    # assign clusters to signatures\n",
    "    assignments = gmm_post.assign_clusters_to_signatures(adata, scoring_names_2_sigs[i:(i+2)], store_names_proba, plot=False)\n",
    "    \n",
    "    print(assignments)\n",
    "    for key, val in assignments.items():\n",
    "        if key =='rest':\n",
    "            continue\n",
    "        adata.obs[key+'_gmm_2sigs'] = adata.obs[val].copy()\n",
    "        scoring_names_3_gmm.append(key+'_gmm_2sigs')\n",
    "    \n",
    "    curr_name = '_'.join(scoring_names_2_sigs[i].split('_')[0:-1])\n",
    "    adata.obs[curr_name +'_NK_gmm_2sigs'] = adata.obs[next(iter(assignments['rest']))].copy()\n",
    "    scoring_names_3_gmm.append(curr_name +'_NK_gmm_2sigs')"
   ]
  },
  {
   "cell_type": "code",
   "execution_count": 10,
   "id": "2b00f045",
   "metadata": {},
   "outputs": [],
   "source": [
    "## remove all unused obs columns\n",
    "adata.obs.drop(columns=[x for x in adata.obs.columns if ('gmm' in x.lower()) and ('sigs' not in x.lower())], \n",
    "               inplace=True)"
   ]
  },
  {
   "cell_type": "markdown",
   "id": "5d59f8c5",
   "metadata": {},
   "source": [
    "## Hard Labeling"
   ]
  },
  {
   "cell_type": "markdown",
   "id": "56055288",
   "metadata": {},
   "source": [
    "### Scenario 1: Three signatures"
   ]
  },
  {
   "cell_type": "markdown",
   "id": "efb64c17",
   "metadata": {},
   "source": [
    "##### Scores "
   ]
  },
  {
   "cell_type": "code",
   "execution_count": 14,
   "id": "76e48d3b",
   "metadata": {},
   "outputs": [
    {
     "name": "stdout",
     "output_type": "stream",
     "text": [
      "ANS\n",
      "Scanpy\n",
      "Tirosh\n",
      "Tirosh_AG\n",
      "Tirosh_LVG\n",
      "Jasmine_LH\n",
      "Jasmine_OR\n",
      "UCell\n"
     ]
    }
   ],
   "source": [
    "for i in range(0, len(scoring_names_3_sigs), 3):\n",
    "    method = scoring_names_3_sigs[i].rsplit('_',1)[0]\n",
    "    #adata.obs[scoring_names_3_sigs[i:(i+3)]].idxmax(axis=\"columns\")\n",
    "    adata.obs[f'{method}_scores_']\n",
    "    "
   ]
  },
  {
   "cell_type": "markdown",
   "id": "3d7e5d43",
   "metadata": {},
   "source": [
    "##### Probabilities "
   ]
  },
  {
   "cell_type": "markdown",
   "id": "73812a2f",
   "metadata": {},
   "source": [
    "### Scenario 2: Two signatures"
   ]
  },
  {
   "cell_type": "markdown",
   "id": "7e3901c2",
   "metadata": {},
   "source": [
    "##### Scores "
   ]
  },
  {
   "cell_type": "markdown",
   "id": "0aa980a3",
   "metadata": {},
   "source": [
    "##### Probabilities "
   ]
  },
  {
   "cell_type": "markdown",
   "id": "5032544d",
   "metadata": {},
   "source": [
    "## Performances "
   ]
  },
  {
   "cell_type": "markdown",
   "id": "3bd49dd7",
   "metadata": {},
   "source": [
    "### Scenario 1: Three signatures"
   ]
  },
  {
   "cell_type": "markdown",
   "id": "c25d203a",
   "metadata": {},
   "source": [
    "### Scenario 2: Two signatures"
   ]
  },
  {
   "cell_type": "code",
   "execution_count": null,
   "id": "b5185ff8",
   "metadata": {},
   "outputs": [],
   "source": []
  }
 ],
 "metadata": {
  "kernelspec": {
   "display_name": "Python 3 (ipykernel)",
   "language": "python",
   "name": "python3"
  },
  "language_info": {
   "codemirror_mode": {
    "name": "ipython",
    "version": 3
   },
   "file_extension": ".py",
   "mimetype": "text/x-python",
   "name": "python",
   "nbconvert_exporter": "python",
   "pygments_lexer": "ipython3",
   "version": "3.8.12"
  }
 },
 "nbformat": 4,
 "nbformat_minor": 5
}
