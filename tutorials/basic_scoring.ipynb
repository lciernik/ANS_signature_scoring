{
 "cells": [
  {
   "cell_type": "markdown",
   "metadata": {
    "pycharm": {
     "name": "#%% md\n"
    }
   },
   "source": [
    "# Tutorial: Scoring with ANS and other gene signature scoring methods\n",
    "The following package contains the Python implementation of the Adjusted Neighborhood Scoring method, as well as of UCell [1], JASMINE [2] (with likelihood or odds-ratio sub-computation), the scoring approach implemented in the R package `Seurat`[3] proposed Tirosh *et al.* [4], and the two modification of it `Seurat_AG` and `Seurat_LVG`. We refer to the main article of this work for details on the scoring methods. \n",
    "\n",
    "## Content tutorial\n",
    "In this tutorial we show the **usage of each available gene signature scoring methods in this package** and their arguments.\n",
    "\n",
    "Structure:\n",
    "- Load preprocessed data\n",
    "- Load cell state specific signatures \n",
    "- Score cell state specific signatures \n",
    "    - Adjusted Neighborhood Scoring (ANS)\n",
    "    - Scanpy Scoring\n",
    "    - Seurat Scoring\n",
    "    - Seurat_AG Scoring\n",
    "    - Seurat_LVG Scoring\n",
    "    - JASMINE Scoring\n",
    "    - UCell Scoring \n",
    "- Visualizations\n",
    "\n",
    "### Data\n",
    "We used our preprocessed version of the PBMC dataset and the DGEX list published by Hao et al. 2021 [5]. We will use the preprocessed dataset containing B-cells, monocytes, and natural killer cells. The preprocessed dataset can additionally be downloaded manually [here](https://drive.google.com/file/d/15DiWGfSoqtt6Fl2tK_0ik-w50rn30LQA/view?usp=drive_link) and the DGEX list [here](https://drive.google.com/file/d/1a3Uqky2VZxCxLvGI-soCTUp3lijrfrx7/view?usp=drive_link). The raw data can be downloaded [here](https://atlas.fredhutch.org/nygc/multimodal-pbmc/). \n",
    "\n",
    "**The tutorial automatically downloads the data and places in a `tut_data` folder**. The data can also be downloaded manually, however, requires to be put into the `tut_data` folder. \n",
    "\n",
    "### References\n",
    "[1] Andreatta, Massimo, and Santiago J. Carmona. 2021. “UCell: Robust and Scalable Single-Cell Gene Signature Scoring.” Computational and Structural Biotechnology Journal 19 (June): 3796–98.https://doi.org/10.1016/j.csbj.2021.06.043; **UCell package**: https://github.com/carmonalab/UCell\n",
    "\n",
    "[2] Noureen, Nighat, Zhenqing Ye, Yidong Chen, Xiaojing Wang, and Siyuan Zheng. 2022. “Signature-Scoring Methods Developed for Bulk Samples Are Not Adequate for Cancer Single-Cell RNA Sequencing Data.” eLife 11 (February). https://doi.org/10.7554/eLife.71994. **JASMINE R implementation**: https://github.com/NNoureen/JASMINE\n",
    "\n",
    "[3] `AddModuleScore` scoring method of R package `Seurat`: https://satijalab.org/seurat/reference/addmodulescore\n",
    "\n",
    "[4] Tirosh, Itay, Benjamin Izar, Sanjay M. Prakadan, Marc H. Wadsworth 2nd, Daniel Treacy, John J. Trombetta, Asaf Rotem, et al. 2016. “Dissecting the Multicellular Ecosystem of Metastatic Melanoma by Single-Cell RNA-Seq.” Science 352 (6282): 189–96. https://doi.org/10.1126/science.aad0501\n",
    "\n",
    "[5] Hao, Yuhan, Stephanie Hao, Erica Andersen-Nissen, William M. Mauck 3rd, Shiwei Zheng, Andrew Butler, Maddie J. Lee, et al. 2021. “Integrated Analysis of Multimodal Single-Cell Data.” Cell 184 (13): 3573–87.e29."
   ]
  },
  {
   "cell_type": "code",
   "execution_count": 1,
   "metadata": {
    "pycharm": {
     "name": "#%%\n"
    }
   },
   "outputs": [],
   "source": [
    "import os\n",
    "import warnings\n",
    "warnings.simplefilter(action='ignore', category=FutureWarning)\n",
    "\n",
    "import scanpy as sc\n",
    "import pandas as pd\n",
    "import gdown\n",
    "\n",
    "from signaturescoring import score_signature\n",
    "\n",
    "from tut_helper import get_sigs_from_DGEX_list\n",
    "sc.settings.verbosity = 2"
   ]
  },
  {
   "cell_type": "markdown",
   "metadata": {},
   "source": [
    "## Create tutorial data folder and automatically download the data if not existant."
   ]
  },
  {
   "cell_type": "code",
   "execution_count": 2,
   "metadata": {},
   "outputs": [],
   "source": [
    "fn_adata = 'tut_data/pp_pbmc_b_mono_nk.h5ad'\n",
    "fn_dgex_genes = 'tut_data/DE_by_celltype.csv'"
   ]
  },
  {
   "cell_type": "code",
   "execution_count": 3,
   "metadata": {},
   "outputs": [
    {
     "name": "stderr",
     "output_type": "stream",
     "text": [
      "Downloading...\n",
      "From (uriginal): https://drive.google.com/uc?id=15DiWGfSoqtt6Fl2tK_0ik-w50rn30LQA\n",
      "From (redirected): https://drive.google.com/uc?id=15DiWGfSoqtt6Fl2tK_0ik-w50rn30LQA&confirm=t&uuid=a950dfad-fed9-459e-9547-923b27d29881\n",
      "To: /Users/laure.ciernik/Documents/ETH/Master/Masterthesis/ANS_signature_scoring/tutorials/tut_data/pp_pbmc_b_mono_nk.h5ad\n",
      "100%|█████████████████████████████████████████████████████████████████████████████████████████████████████████████████████████████████████████████████████████████████████████████████████████████| 2.74G/2.74G [03:59<00:00, 11.5MB/s]\n",
      "Downloading...\n",
      "From: https://drive.google.com/uc?id=1a3Uqky2VZxCxLvGI-soCTUp3lijrfrx7\n",
      "To: /Users/laure.ciernik/Documents/ETH/Master/Masterthesis/ANS_signature_scoring/tutorials/tut_data/DE_by_celltype.csv\n",
      "100%|███████████████████████████████████████████████████████████████████████████████████████████████████████████████████████████████████████████████████████████████████████████████████████████████| 528k/528k [00:00<00:00, 1.86MB/s]\n"
     ]
    }
   ],
   "source": [
    "if not os.path.exists('./tut_data'):\n",
    "    os.makedirs('./tut_data')\n",
    "\n",
    "# if tutorial data was not downloaded before, it is downloaded\n",
    "if not os.path.isfile(fn_adata):\n",
    "    URL = 'https://drive.google.com/file/d/15DiWGfSoqtt6Fl2tK_0ik-w50rn30LQA/view?usp=drive_link'\n",
    "    gdown.download(URL, fn_adata, fuzzy=True)\n",
    "\n",
    "if not os.path.isfile(fn_dgex_genes):\n",
    "    URL = 'https://drive.google.com/file/d/1a3Uqky2VZxCxLvGI-soCTUp3lijrfrx7/view?usp=drive_link'\n",
    "    gdown.download(URL, fn_dgex_genes, fuzzy=True)"
   ]
  },
  {
   "cell_type": "markdown",
   "metadata": {
    "pycharm": {
     "name": "#%% md\n"
    }
   },
   "source": [
    "## Load preprocessed data"
   ]
  },
  {
   "cell_type": "code",
   "execution_count": 4,
   "metadata": {
    "pycharm": {
     "name": "#%%\n"
    }
   },
   "outputs": [],
   "source": [
    "adata = sc.read_h5ad(fn_adata)\n",
    "\n",
    "## To avoid errors \n",
    "if 'log1p' in adata.uns_keys():\n",
    "    adata.uns['log1p']['base'] = None\n",
    "else:\n",
    "    adata.uns['log1p'] = {'base': None}"
   ]
  },
  {
   "cell_type": "markdown",
   "metadata": {
    "pycharm": {
     "name": "#%% md\n"
    }
   },
   "source": [
    "The preprocessed dataset contains B-cells, Monocytes and NK-cells. "
   ]
  },
  {
   "cell_type": "code",
   "execution_count": 5,
   "metadata": {
    "pycharm": {
     "name": "#%%\n"
    }
   },
   "outputs": [
    {
     "data": {
      "text/plain": [
       "Mono    43553\n",
       "NK      14408\n",
       "B       10613\n",
       "Name: celltype.l1, dtype: int64"
      ]
     },
     "execution_count": 5,
     "metadata": {},
     "output_type": "execute_result"
    }
   ],
   "source": [
    "adata.obs['celltype.l1'].value_counts()"
   ]
  },
  {
   "cell_type": "markdown",
   "metadata": {
    "pycharm": {
     "name": "#%% md\n"
    }
   },
   "source": [
    "## Load cell state specific signatures\n",
    "We create celltype signatures based on the list of published differentially expressed genes  per cell type. Because the cell type granularity level is lower in the DGEX genes list, we simply union the DGEX genes of all cell sub-type beloning to our types of interest, i.e., B-cells, Monocytes and NK-cells. The detailed way how to extract the signatures is implemented in the method `get_sigs_from_DGEX_list` of `tut_helper.py`."
   ]
  },
  {
   "cell_type": "code",
   "execution_count": 6,
   "metadata": {
    "pycharm": {
     "name": "#%%\n"
    }
   },
   "outputs": [],
   "source": [
    "DE_of_celltypes = pd.read_csv(fn_dgex_genes)"
   ]
  },
  {
   "cell_type": "code",
   "execution_count": 7,
   "metadata": {
    "pycharm": {
     "name": "#%%\n"
    }
   },
   "outputs": [
    {
     "name": "stdout",
     "output_type": "stream",
     "text": [
      "Types and their subtypes:\n",
      "{\n",
      "    \"B\": [\n",
      "        \"B intermediate kappa\",\n",
      "        \"B intermediate lambda\",\n",
      "        \"B memory kappa\",\n",
      "        \"B memory lambda\",\n",
      "        \"B naive kappa\",\n",
      "        \"B naive lambda\",\n",
      "        \"Plasma\",\n",
      "        \"Plasmablast\"\n",
      "    ],\n",
      "    \"Mono\": [\n",
      "        \"CD14 Mono\",\n",
      "        \"CD16 Mono\"\n",
      "    ],\n",
      "    \"NK\": [\n",
      "        \"NK_1\",\n",
      "        \"NK_2\",\n",
      "        \"NK_3\",\n",
      "        \"NK_4\",\n",
      "        \"NK Proliferating\",\n",
      "        \"NK_CD56bright\"\n",
      "    ]\n",
      "}\n",
      "WARNING: genes are not in var_names and ignored: ['ABCB9', 'BUB1', 'CAV1', 'CHPF', 'DLGAP5', 'IGF1', 'MYO1D', 'NUGGC', 'PERP', 'UBE2C']\n",
      "WARNING: genes are not in var_names and ignored: ['7-Sep', 'CDT1', 'ESCO2', 'GINS2', 'GTSE1']\n"
     ]
    }
   ],
   "source": [
    "SG_subtypes = get_sigs_from_DGEX_list(adata, DE_of_celltypes, remove_overlapping=True)"
   ]
  },
  {
   "cell_type": "code",
   "execution_count": 8,
   "metadata": {
    "pycharm": {
     "name": "#%%\n"
    }
   },
   "outputs": [
    {
     "name": "stdout",
     "output_type": "stream",
     "text": [
      "Signature for subtype B contains 488 genes.\n",
      "Signature for subtype Mono contains 382 genes.\n",
      "Signature for subtype NK contains 243 genes.\n"
     ]
    }
   ],
   "source": [
    "for k,v in SG_subtypes.items():\n",
    "    print(f'Signature for subtype {k} contains {len(v)} genes.')"
   ]
  },
  {
   "cell_type": "markdown",
   "metadata": {
    "pycharm": {
     "name": "#%% md\n"
    }
   },
   "source": [
    "## Score cell state specific signatures\n",
    "Next we show how to score cells with each method and avaialble parameters. We will score all signatures in `SG_subtypes`. \n",
    "\n",
    "All scoring methods can be called via the method `score_signature` of our package: \n",
    "```python\n",
    "import signaturescoring as ssc\n",
    "\n",
    "ssc.score_signature(\n",
    "    adata=adata,                            \n",
    "    gene_list=gene_signature,               \n",
    "    method='[desired scoring method]',      \n",
    "    score_name='scores', \n",
    "    gene_pool=None,\n",
    "    df_mean_var=None,\n",
    "    copy=False,\n",
    "    use_raw=False,\n",
    "    **kwarg                                 # Scoring method specific keyword arguments \n",
    ")\n",
    "```\n",
    "\n",
    "| Argument          | Default  | Description |\n",
    "| :---------------- | :------: | :---- |\n",
    "|`adata`       |   required arg     | AnnData object containing the log-normalized gene expression. |\n",
    "|`gene_list` |   required arg  | A list of genes,i.e., gene expression signature, for which the cells are scored for. |\n",
    "|`method` |  `adjusted_neighborhood_scoring`   | Scoring method to use. One of \\['adjusted_neighborhood_scoring', 'seurat_scoring', 'seurat_ag_scoring','seurat_lvg_scoring', 'scanpy_scoring', 'jasmine_scoring', 'ucell_scoring'\\] |\n",
    "|`score_name` |  `scores`   | Column name for scores stored in `.obs` of `adata`. |\n",
    "|`gene_pool` |  `None`   |  The pool of genes out of which control genes can be selected. If it is `None`, `gene_pool` is set to remaining genes. NOTE: Only used in ANS, Scanpy, Seurat, Seurat_AG, Seurat_LVG|\n",
    "|`df_mean_var` |  `None`   | A pandas DataFrame containing the average expression (and variance) for each gene in the dataset. If `df_mean_var` is `None`, the average gene expression and variance is computed during gene signature scoring. NOTE: Only used in ANS, Seurat, Seurat_AG, Seurat_LVG |\n",
    "|`copy` |  False   | Indicates whether original or a copy of `adata` is modified. |\n",
    "|`use_raw` |  False   | Whether to compute gene signature score on raw data stored in `.raw` attribute of `adata`. |\n"
   ]
  },
  {
   "cell_type": "code",
   "execution_count": 9,
   "metadata": {
    "pycharm": {
     "name": "#%%\n"
    }
   },
   "outputs": [],
   "source": [
    "## Helper array to store all names of the newly created columns\n",
    "all_score_names = []"
   ]
  },
  {
   "cell_type": "markdown",
   "metadata": {
    "pycharm": {
     "name": "#%% md\n"
    }
   },
   "source": [
    "### Adjusted Neighborhood Scoring (ANS)\n",
    "Our proposed method. \n",
    "\n",
    "*Method specific arguments:*\n",
    "\n",
    "| Argument          | Default  | Description |\n",
    "| :---------------- | :------: | :---- |\n",
    "|`ctrl_size`       |   100    | The number of control genes selected for each gene in the gene_list. |\n",
    "|`remove_genes_with_invalid_control_set` |  True   | If true, the scoring method removes genes from the `gene_list` for which no optimal control set can be computed, i.e., if a gene belongs to the `ctrl_size/2` genes with the largest average expression. |\n",
    "\n",
    "\n",
    "For more details, see the implementation in `signaturescoring/scoring_methods/adjusted_neighborhood_scoring.py`"
   ]
  },
  {
   "cell_type": "code",
   "execution_count": 10,
   "metadata": {
    "pycharm": {
     "name": "#%%\n"
    }
   },
   "outputs": [
    {
     "name": "stdout",
     "output_type": "stream",
     "text": [
      "Scoring for gene type and storing scores in 'ANS_B'\n",
      "computing score 'ANS_B'\n",
      "    finished (0:00:38)\n",
      "Scoring for gene type and storing scores in 'ANS_Mono'\n",
      "computing score 'ANS_Mono'\n",
      "    finished (0:00:19)\n",
      "Scoring for gene type and storing scores in 'ANS_NK'\n",
      "computing score 'ANS_NK'\n",
      "    finished (0:00:37)\n"
     ]
    }
   ],
   "source": [
    "for gene_type, gene_list in SG_subtypes.items():\n",
    "    # defining name of the scores column in .obs\n",
    "    score_name = f'ANS_{gene_type}'\n",
    "    \n",
    "    sc.logging.info(f'Scoring for gene type and storing scores in \\'{score_name}\\'')\n",
    "    \n",
    "    # scoring with ANS\n",
    "    score_signature(method='adjusted_neighborhood_scoring',\n",
    "                    adata=adata,\n",
    "                    gene_list=gene_list, \n",
    "                    ctrl_size=100, \n",
    "                    score_name=score_name\n",
    "                    )\n",
    "    \n",
    "    all_score_names.append(score_name)"
   ]
  },
  {
   "cell_type": "markdown",
   "metadata": {
    "pycharm": {
     "name": "#%% md\n"
    }
   },
   "source": [
    "### Scanpy scoring\n",
    "Selecting `method='scanpy_scoring'` will call the original `score_genes` method of the Scanpy package. See details on the method [here](https://scanpy.readthedocs.io/en/stable/generated/scanpy.tl.score_genes.html)."
   ]
  },
  {
   "cell_type": "code",
   "execution_count": 11,
   "metadata": {
    "pycharm": {
     "name": "#%%\n"
    }
   },
   "outputs": [
    {
     "name": "stdout",
     "output_type": "stream",
     "text": [
      "Scoring for gene type and storing scores in 'Scanpy_B'\n",
      "computing score 'Scanpy_B'\n",
      "    finished (0:00:09)\n",
      "Scoring for gene type and storing scores in 'Scanpy_Mono'\n",
      "computing score 'Scanpy_Mono'\n",
      "    finished (0:00:06)\n",
      "Scoring for gene type and storing scores in 'Scanpy_NK'\n",
      "computing score 'Scanpy_NK'\n",
      "    finished (0:00:06)\n"
     ]
    }
   ],
   "source": [
    "for gene_type, gene_list in SG_subtypes.items():\n",
    "    # defining name of the scores column in .obs\n",
    "    score_name = f'Scanpy_{gene_type}'\n",
    "    \n",
    "    sc.logging.info(f'Scoring for gene type and storing scores in \\'{score_name}\\'')\n",
    "    \n",
    "    # scoring with Scanpy\n",
    "    score_signature(method='scanpy_scoring',\n",
    "                    adata=adata,\n",
    "                    gene_list=gene_list, \n",
    "                    ctrl_size=100,\n",
    "                    n_bins=25,\n",
    "                    score_name=score_name\n",
    "                    )\n",
    "    \n",
    "    all_score_names.append(score_name)"
   ]
  },
  {
   "cell_type": "markdown",
   "metadata": {
    "pycharm": {
     "name": "#%% md\n"
    }
   },
   "source": [
    "### Seurat\n",
    "The following three chapters show the usage of the scoring method implemented in the R Package [`Seurat`](https://satijalab.org/seurat/reference/addmodulescore) and first described by Tirosh *et al.* (2016)and the two modifications of it. \n",
    "\n",
    "*Method specific arguments:*\n",
    "\n",
    "| Argument          | Default  | Description |\n",
    "| :---------------- | :------: | :---- |\n",
    "|`ctrl_size`       |   100    | The number of control genes selected for each gene in the gene_list. |\n",
    "|`n_bins`          |   25    | The number of average gene expression bins to use. |\n",
    "|`random_state` |`None`| Seed for random state. If `None`, no global seed is set.|\n",
    "\n",
    "For more details, see the implementation in `signaturescoring/scoring_methods/seurat_scoring.py`"
   ]
  },
  {
   "cell_type": "code",
   "execution_count": 12,
   "metadata": {
    "pycharm": {
     "name": "#%%\n"
    }
   },
   "outputs": [
    {
     "name": "stdout",
     "output_type": "stream",
     "text": [
      "Scoring for gene type and storing scores in 'Seurat_B'\n",
      "computing score 'Seurat_B'\n",
      "    finished (0:00:08)\n",
      "Scoring for gene type and storing scores in 'Seurat_Mono'\n",
      "computing score 'Seurat_Mono'\n",
      "    finished (0:00:05)\n",
      "Scoring for gene type and storing scores in 'Seurat_NK'\n",
      "computing score 'Seurat_NK'\n",
      "    finished (0:00:06)\n"
     ]
    }
   ],
   "source": [
    "for gene_type, gene_list in SG_subtypes.items():\n",
    "    # defining name of the scores column in .obs\n",
    "    score_name = f'Seurat_{gene_type}'\n",
    "    \n",
    "    sc.logging.info(f'Scoring for gene type and storing scores in \\'{score_name}\\'')\n",
    "    \n",
    "    # scoring with Seurat\n",
    "    score_signature(method='seurat_scoring',\n",
    "                    adata=adata,\n",
    "                    gene_list=gene_list, \n",
    "                    ctrl_size=100,\n",
    "                    n_bins=25,\n",
    "                    score_name=score_name\n",
    "                    )\n",
    "    \n",
    "    all_score_names.append(score_name)   "
   ]
  },
  {
   "cell_type": "markdown",
   "metadata": {
    "pycharm": {
     "name": "#%% md\n"
    }
   },
   "source": [
    "### Seurat_AG\n",
    "`Seurat_AG` is a modification of the `Seurat` method and uses all non-signature genes of an expression bin as control. Thus does **not** require the `ctrl_size` argunment and results in the same control set for all signature genes landing in the same expression bin. \n",
    "\n",
    "*Method specific arguments:*\n",
    "\n",
    "| Argument          | Default  | Description |\n",
    "| :---------------- | :------: | :---- |\n",
    "|`n_bins`          |   25    | The number of average gene expression bins to use. |\n",
    "\n",
    "For more details, see the implementation in `signaturescoring/scoring_methods/seurat_ag_scoring.py`\n"
   ]
  },
  {
   "cell_type": "code",
   "execution_count": 13,
   "metadata": {
    "pycharm": {
     "name": "#%%\n"
    }
   },
   "outputs": [
    {
     "name": "stdout",
     "output_type": "stream",
     "text": [
      "Scoring for gene type and storing scores in 'Seurat_AG_B'\n",
      "computing score 'Seurat_AG_B'\n",
      "    finished (0:00:30)\n",
      "Scoring for gene type and storing scores in 'Seurat_AG_Mono'\n",
      "computing score 'Seurat_AG_Mono'\n",
      "    finished (0:00:32)\n",
      "Scoring for gene type and storing scores in 'Seurat_AG_NK'\n",
      "computing score 'Seurat_AG_NK'\n",
      "    finished (0:00:30)\n"
     ]
    }
   ],
   "source": [
    "for gene_type, gene_list in SG_subtypes.items():\n",
    "    # defining name of the scores column in .obs\n",
    "    score_name = f'Seurat_AG_{gene_type}'\n",
    "    \n",
    "    sc.logging.info(f'Scoring for gene type and storing scores in \\'{score_name}\\'')\n",
    "    \n",
    "    # scoring with Seurat_AG\n",
    "    score_signature(method='seurat_ag_scoring',\n",
    "                    adata=adata,\n",
    "                    gene_list=gene_list, \n",
    "                    n_bins=25,\n",
    "                    score_name=score_name\n",
    "                    )\n",
    "    \n",
    "    all_score_names.append(score_name) "
   ]
  },
  {
   "cell_type": "markdown",
   "metadata": {
    "pycharm": {
     "name": "#%% md\n"
    }
   },
   "source": [
    "### Seurat_LVG\n",
    "`Seurat_LVG` is a modification of the `Seurat` method and uses `ctrl_size` genes per expression bin with smallest variance as control. all non-signature genes of an expression bin as control. Thus resulting in the same control set for all signature genes landing in the same expression bin. The method makes use of the `highly_variable_genes` method provided by Scanpy. Find more details on the Scanpy method [here](https://scanpy.readthedocs.io/en/stable/generated/scanpy.pp.highly_variable_genes.html).\n",
    "\n",
    "*Method specific arguments:* \n",
    "\n",
    "| Argument          | Default  | Description |\n",
    "| :---------------- | :------: | :---- |\n",
    "|`ctrl_size`       |   100    | The number of control genes selected for each gene in the gene_list. |\n",
    "|`n_bins`          |   25    | The number of average gene expression bins to use. |\n",
    "|`lvg_computation_version` |   `v1`    | The version of the least variable genes selection defines if the genes with the smallest dispersion are chosen directly from an expression bin (v1) or whether the expressions are binned a second round (v2). |\n",
    "|`lvg_computation_method`  |   `seurat`    | Indicates which method should be used to compute the least variable genes. We can use `seurat` or `cell_ranger`. See reference [here].(https://scanpy.readthedocs.io/en/stable/generated/scanpy.pp.highly_variable_genes.html#scanpy.pp.highly_variable_genes) |\n",
    "|`nr_norm_bins`  |   5    |  If `lvg_computation_version='v2'`, we need to define the number of subbins used. |\n",
    "\n",
    "For more details, see the implementation in `signaturescoring/scoring_methods/seurat_lvg_scoring.py`"
   ]
  },
  {
   "cell_type": "code",
   "execution_count": 14,
   "metadata": {
    "pycharm": {
     "name": "#%%\n"
    }
   },
   "outputs": [
    {
     "name": "stdout",
     "output_type": "stream",
     "text": [
      "Scoring for gene type and storing scores in 'Seurat_LVG_B'\n",
      "computing score 'Seurat_LVG_B'\n",
      "extracting highly variable genes\n",
      "    finished (0:00:50)\n",
      "    finished (0:01:46)\n",
      "Scoring for gene type and storing scores in 'Seurat_LVG_Mono'\n",
      "computing score 'Seurat_LVG_Mono'\n",
      "extracting highly variable genes\n",
      "    finished (0:00:41)\n",
      "    finished (0:01:27)\n",
      "Scoring for gene type and storing scores in 'Seurat_LVG_NK'\n",
      "computing score 'Seurat_LVG_NK'\n",
      "extracting highly variable genes\n",
      "    finished (0:01:10)\n",
      "    finished (0:03:01)\n"
     ]
    }
   ],
   "source": [
    "for gene_type, gene_list in SG_subtypes.items():\n",
    "    # defining name of the scores column in .obs\n",
    "    score_name = f'Seurat_LVG_{gene_type}'\n",
    "    \n",
    "    sc.logging.info(f'Scoring for gene type and storing scores in \\'{score_name}\\'')\n",
    "    \n",
    "    # scoring with Seurat_LVG\n",
    "    score_signature(method='seurat_lvg_scoring',\n",
    "                    adata=adata,\n",
    "                    gene_list=gene_list, \n",
    "                    ctrl_size=100,\n",
    "                    n_bins=25,\n",
    "                    lvg_computation_version=\"v1\",\n",
    "                    lvg_computation_method=\"seurat\",\n",
    "                    score_name=score_name\n",
    "                    )\n",
    "\n",
    "    all_score_names.append(score_name) "
   ]
  },
  {
   "cell_type": "markdown",
   "metadata": {
    "pycharm": {
     "name": "#%% md\n"
    }
   },
   "source": [
    "### JASMINE scoring\n",
    "We implemented the JASMINE gene signature scoring method proposed by Andreatta *et al.* 2021 in Python and can be used by our package. The scoring method proposes the computation of the scores via the `likelihood` or the `odds-ratio`. We refer to the original article for detailed distinction of the methods.\n",
    "\n",
    "*Methods specific arguments:* \n",
    "\n",
    "| Argument          | Default  | Description |\n",
    "| :---------------- | :------: | :---- |\n",
    "|`score_method`  |  `likelihood`    |  The method describes, which submethod of enrichment value computation should be used: `likelihood` or `oddsratio`.|\n",
    "|`bs`            |   500    | The number of cells in a processing batch. |\n",
    "|`random_state`  |   `None`    |Seed for random state. If `None` not global seed is set. |\n",
    "|`joblib_kwargs` |   `{'n_jobs': 4}`   |  Keyword argument for parallel execution with joblib.|\n",
    "\n",
    "For more details, see the implementation in `signaturescoring/scoring_methods/jasmine_scoring.py`"
   ]
  },
  {
   "cell_type": "markdown",
   "metadata": {
    "pycharm": {
     "name": "#%% md\n"
    }
   },
   "source": [
    "#### Jasmine_LH"
   ]
  },
  {
   "cell_type": "code",
   "execution_count": null,
   "metadata": {
    "pycharm": {
     "name": "#%%\n"
    }
   },
   "outputs": [
    {
     "name": "stdout",
     "output_type": "stream",
     "text": [
      "Scoring for gene type and storing scores in 'Jasmine_LH_B'\n",
      "computing score 'Jasmine_LH_B'\n",
      "    finished (0:06:22)\n",
      "Scoring for gene type and storing scores in 'Jasmine_LH_Mono'\n",
      "computing score 'Jasmine_LH_Mono'\n",
      "    finished (0:06:46)\n",
      "Scoring for gene type and storing scores in 'Jasmine_LH_NK'\n",
      "computing score 'Jasmine_LH_NK'\n"
     ]
    }
   ],
   "source": [
    "for gene_type, gene_list in SG_subtypes.items():\n",
    "    # defining name of the scores column in .obs\n",
    "    score_name = f'Jasmine_LH_{gene_type}'\n",
    "    \n",
    "    sc.logging.info(f'Scoring for gene type and storing scores in \\'{score_name}\\'')\n",
    "    \n",
    "    # scoring with Jasmine_LH\n",
    "    score_signature(method='jasmine_scoring',\n",
    "                    adata=adata,\n",
    "                    gene_list=gene_list, \n",
    "                    score_method='likelihood',\n",
    "                    score_name=score_name\n",
    "                    )\n",
    "\n",
    "    all_score_names.append(score_name) "
   ]
  },
  {
   "cell_type": "markdown",
   "metadata": {
    "pycharm": {
     "name": "#%% md\n"
    }
   },
   "source": [
    "#### Jasmine_OR"
   ]
  },
  {
   "cell_type": "code",
   "execution_count": null,
   "metadata": {
    "pycharm": {
     "name": "#%%\n"
    }
   },
   "outputs": [],
   "source": [
    "for gene_type, gene_list in SG_subtypes.items():\n",
    "    # defining name of the scores column in .obs\n",
    "    score_name = f'Jasmine_OR_{gene_type}'\n",
    "    \n",
    "    sc.logging.info(f'Scoring for gene type and storing scores in \\'{score_name}\\'')\n",
    "    \n",
    "    # scoring with Jasmine_OR\n",
    "    score_signature(method='jasmine_scoring',\n",
    "                    adata=adata,\n",
    "                    gene_list=gene_list, \n",
    "                    score_method='oddsratio',\n",
    "                    score_name=score_name\n",
    "                    )\n",
    "\n",
    "    all_score_names.append(score_name) "
   ]
  },
  {
   "cell_type": "markdown",
   "metadata": {
    "pycharm": {
     "name": "#%% md\n"
    }
   },
   "source": [
    "### UCell scoring\n",
    "We implemented the UCell gene signature scoring method proposed by Noureen *et al.* 2022 in Python and can be used by our package. We refer to the original article for detailed distinction of the methods.\n",
    "\n",
    "*Methods specific arguments:* \n",
    "\n",
    "| Argument          | Default  | Description |\n",
    "| :---------------- | :------: | :---- |\n",
    "|`maxRank`  |  1500   |  Cutoff for maximum rank allowed.|\n",
    "|`bs`            |   500    | The number of cells in a processing batch. |\n",
    "|`random_state`  |   `None`    |Seed for random state. If `None` not global seed is set. |\n",
    "|`joblib_kwargs` |   `{'n_jobs': 4}`   |  Keyword argument for parallel execution with joblib.|\n",
    "\n",
    "For more details, see the implementation in `signaturescoring/scoring_methods/ucell_scoring.py`"
   ]
  },
  {
   "cell_type": "code",
   "execution_count": null,
   "metadata": {
    "pycharm": {
     "name": "#%%\n"
    }
   },
   "outputs": [],
   "source": [
    "for gene_type, gene_list in SG_subtypes.items():\n",
    "    # defining name of the scores column in .obs\n",
    "    score_name = f'UCell_{gene_type}'\n",
    "    \n",
    "    sc.logging.info(f'Scoring for gene type and storing scores in \\'{score_name}\\'')\n",
    "    \n",
    "    # scoring with UCell\n",
    "    score_signature(method='ucell_scoring',\n",
    "                    adata=adata,\n",
    "                    gene_list=gene_list, \n",
    "                    maxRank= 1500,\n",
    "                    score_name=score_name\n",
    "                    )\n",
    "\n",
    "    all_score_names.append(score_name) "
   ]
  },
  {
   "cell_type": "markdown",
   "metadata": {
    "pycharm": {
     "name": "#%% md\n"
    }
   },
   "source": [
    "## Visualizing scores"
   ]
  },
  {
   "cell_type": "code",
   "execution_count": null,
   "metadata": {
    "pycharm": {
     "name": "#%%\n"
    }
   },
   "outputs": [],
   "source": [
    "sc.tl.pca(adata)\n",
    "sc.pp.neighbors(adata)\n",
    "sc.tl.umap(adata)"
   ]
  },
  {
   "cell_type": "code",
   "execution_count": null,
   "metadata": {
    "pycharm": {
     "name": "#%%\n"
    },
    "scrolled": false
   },
   "outputs": [],
   "source": [
    "sc.pl.umap(adata, color=['celltype.l1', 'celltype.l2', 'celltype.l3']+all_score_names, ncols=3)"
   ]
  },
  {
   "cell_type": "markdown",
   "metadata": {
    "pycharm": {
     "name": "#%% md\n"
    }
   },
   "source": [
    "## Store adata for following tutorials"
   ]
  },
  {
   "cell_type": "code",
   "execution_count": null,
   "metadata": {
    "pycharm": {
     "name": "#%%\n"
    }
   },
   "outputs": [],
   "source": [
    "adata.write_h5ad('tut_data/pp_pbmc_b_mono_nk_scored.h5ad')"
   ]
  }
 ],
 "metadata": {
  "kernelspec": {
   "display_name": "Python 3 (ipykernel)",
   "language": "python",
   "name": "python3"
  },
  "language_info": {
   "codemirror_mode": {
    "name": "ipython",
    "version": 3
   },
   "file_extension": ".py",
   "mimetype": "text/x-python",
   "name": "python",
   "nbconvert_exporter": "python",
   "pygments_lexer": "ipython3",
   "version": "3.8.12"
  }
 },
 "nbformat": 4,
 "nbformat_minor": 2
}
