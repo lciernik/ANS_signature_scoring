{
 "cells": [
  {
   "cell_type": "markdown",
   "metadata": {},
   "source": [
    "# Tutorial scoring with ANS and other gene signature scoring methods\n",
    "The following package contains the Python implementation of the Adjusted Neighborhood Scoring method, as well as of UCell [1], JASMINE [2] (with likelihood or odds-ratio sub-computation), the scoring approach by Tirosh et al. [3], and the two modification of it Tirosh_AG and Tirosh_LVG. We refer to the main article of this work for details on the scoring methods. \n",
    "\n",
    "**Content tutorial**:\n",
    "- In the first part of this tutorial, we show the *basic usage* of the available gene signature scoring methods. \n",
    "- In the second part, we show the application of *GMM postprocessing* for comparable score ranges. \n",
    "\n",
    "We used our preprocessed version of the PBMC dataset and the DGEX list published by Hao et al. 2021 [4]. We will use the preprocessed dataset containing B-cells, monocytes, and natural killer cells. The preprocessed dataset can be downloaded [here](https://drive.google.com/file/d/15DiWGfSoqtt6Fl2tK_0ik-w50rn30LQA/view?usp=drive_link) and the DGEX list [here](https://drive.google.com/file/d/1a3Uqky2VZxCxLvGI-soCTUp3lijrfrx7/view?usp=drive_link). The raw data can be downloaded [here](https://atlas.fredhutch.org/nygc/multimodal-pbmc/). \n",
    "\n",
    "*Place the downloaded data into the `tut_data` folder*.\n",
    "\n",
    "\n",
    "[1] [https://github.com/carmonalab/UCell](https://github.com/carmonalab/UCell) by [Andreatta et Carmona 2021](https://doi.org/10.1016/j.csbj.2021.06.043)\n",
    "\n",
    "[2] [https://github.com/NNoureen/JASMINE](https://github.com/NNoureen/JASMINE) by [Noureen et al. 2022](https://doi.org/10.7554/eLife.71994)\n",
    "\n",
    "[3] Tirosh, Itay, Benjamin Izar, Sanjay M. Prakadan, Marc H. Wadsworth 2nd, Daniel Treacy, John J. Trombetta, Asaf Rotem, et al. 2016. “Dissecting the Multicellular Ecosystem of Metastatic Melanoma by Single-Cell RNA-Seq.” Science 352 (6282): 189–96. https://doi.org/10.1126/science.aad0501\n",
    "\n",
    "[4] Hao, Yuhan, Stephanie Hao, Erica Andersen-Nissen, William M. Mauck 3rd, Shiwei Zheng, Andrew Butler, Maddie J. Lee, et al. 2021. “Integrated Analysis of Multimodal Single-Cell Data.” Cell 184 (13): 3573–87.e29."
   ]
  },
  {
   "cell_type": "code",
   "execution_count": 1,
   "metadata": {},
   "outputs": [],
   "source": [
    "import scanpy as sc\n",
    "import pandas as pd\n",
    "\n",
    "from signaturescoring import score_signature\n",
    "\n",
    "from tut_helper import get_sigs_from_DGEX_list\n",
    "sc.settings.verbosity = 2"
   ]
  },
  {
   "cell_type": "markdown",
   "metadata": {},
   "source": [
    "## Load preprocessed data"
   ]
  },
  {
   "cell_type": "code",
   "execution_count": 2,
   "metadata": {},
   "outputs": [],
   "source": [
    "adata = sc.read_h5ad('tut_data/pp_pbmc_b_mono_nk.h5ad')\n",
    "\n",
    "## To avoid errors \n",
    "if 'log1p' in adata.uns_keys():\n",
    "    adata.uns['log1p']['base'] = None\n",
    "else:\n",
    "    adata.uns['log1p'] = {'base': None}"
   ]
  },
  {
   "cell_type": "markdown",
   "metadata": {},
   "source": [
    "The preprocessed dataset contains B-cells, Monocytes and NK-cells. "
   ]
  },
  {
   "cell_type": "code",
   "execution_count": 3,
   "metadata": {},
   "outputs": [
    {
     "data": {
      "text/plain": [
       "Mono    43553\n",
       "NK      14408\n",
       "B       10613\n",
       "Name: celltype.l1, dtype: int64"
      ]
     },
     "execution_count": 3,
     "metadata": {},
     "output_type": "execute_result"
    }
   ],
   "source": [
    "adata.obs['celltype.l1'].value_counts()"
   ]
  },
  {
   "cell_type": "markdown",
   "metadata": {},
   "source": [
    "## Load cell state specific signatures\n",
    "We create celltype signatures based on the list of published differentially expressed genes  per cell type. Because the cell type granularity level is lower in the DGEX genes list, we simply union the DGEX genes of all cell sub-type beloning to our types of interest, i.e., B-cells, Monocytes and NK-cells. The detailed way how to extract the signatures is implemented in the method `get_sigs_from_DGEX_list` of `tut_helper.py`."
   ]
  },
  {
   "cell_type": "code",
   "execution_count": 4,
   "metadata": {},
   "outputs": [],
   "source": [
    "DE_of_celltypes = pd.read_csv('tut_data/DE_by_celltype.csv')"
   ]
  },
  {
   "cell_type": "code",
   "execution_count": 5,
   "metadata": {},
   "outputs": [
    {
     "name": "stdout",
     "output_type": "stream",
     "text": [
      "Types and their subtypes:\n",
      "{\n",
      "    \"B\": [\n",
      "        \"B intermediate kappa\",\n",
      "        \"B intermediate lambda\",\n",
      "        \"B memory kappa\",\n",
      "        \"B memory lambda\",\n",
      "        \"B naive kappa\",\n",
      "        \"B naive lambda\",\n",
      "        \"Plasma\",\n",
      "        \"Plasmablast\"\n",
      "    ],\n",
      "    \"Mono\": [\n",
      "        \"CD14 Mono\",\n",
      "        \"CD16 Mono\"\n",
      "    ],\n",
      "    \"NK\": [\n",
      "        \"NK_1\",\n",
      "        \"NK_2\",\n",
      "        \"NK_3\",\n",
      "        \"NK_4\",\n",
      "        \"NK Proliferating\",\n",
      "        \"NK_CD56bright\"\n",
      "    ]\n",
      "}\n",
      "WARNING: genes are not in var_names and ignored: ['ABCB9', 'BUB1', 'CAV1', 'CHPF', 'DLGAP5', 'IGF1', 'MYO1D', 'NUGGC', 'PERP', 'UBE2C']\n",
      "WARNING: genes are not in var_names and ignored: ['7-Sep', 'CDT1', 'ESCO2', 'GINS2', 'GTSE1']\n"
     ]
    }
   ],
   "source": [
    "SG_subtypes = get_sigs_from_DGEX_list(adata, DE_of_celltypes, remove_overlapping=True)"
   ]
  },
  {
   "cell_type": "code",
   "execution_count": 6,
   "metadata": {},
   "outputs": [
    {
     "name": "stdout",
     "output_type": "stream",
     "text": [
      "Signature for subtype B contains 488 genes.\n",
      "Signature for subtype Mono contains 382 genes.\n",
      "Signature for subtype NK contains 243 genes.\n"
     ]
    }
   ],
   "source": [
    "for k,v in SG_subtypes.items():\n",
    "    print(f'Signature for subtype {k} contains {len(v)} genes.')"
   ]
  },
  {
   "cell_type": "markdown",
   "metadata": {},
   "source": [
    "## Score cell statespecific signatures\n",
    "Next we show how to score cells with each method and avaialble parameters. We will score all signatured in `SG_subtypes`. The method `score_signature` of our package takes an anndata object, a list of genes, and method specific parameters and scores the cells. Cell scores are stored inplace in the anndata object in `.obs` DataFrame. "
   ]
  },
  {
   "cell_type": "markdown",
   "metadata": {},
   "source": [
    "### Adjusted Neighborhood Scoring (ANS)"
   ]
  },
  {
   "cell_type": "code",
   "execution_count": null,
   "metadata": {},
   "outputs": [],
   "source": [
    "for gene_type, gene_list in SG_subtypes.items():\n",
    "    sc.logging.info(f'Scoring for gene type ')\n",
    "    score_signature(method='adjusted_neighborhood_scoring',\n",
    "                    adata=adata,\n",
    "                    gene_list=gene_list, \n",
    "                    ctrl_size=100, \n",
    "                    score_name=f'ANS_{gene_type}_scores'\n",
    "                    )"
   ]
  },
  {
   "cell_type": "markdown",
   "metadata": {},
   "source": [
    "### Scanpy scoring"
   ]
  },
  {
   "cell_type": "code",
   "execution_count": null,
   "metadata": {},
   "outputs": [],
   "source": []
  },
  {
   "cell_type": "markdown",
   "metadata": {},
   "source": [
    "### Tirosh-based scoring methods"
   ]
  },
  {
   "cell_type": "code",
   "execution_count": null,
   "metadata": {},
   "outputs": [],
   "source": []
  },
  {
   "cell_type": "markdown",
   "metadata": {},
   "source": [
    "### JASMINE scoring"
   ]
  },
  {
   "cell_type": "code",
   "execution_count": null,
   "metadata": {},
   "outputs": [],
   "source": []
  },
  {
   "cell_type": "markdown",
   "metadata": {},
   "source": [
    "### UCell scoring"
   ]
  },
  {
   "cell_type": "code",
   "execution_count": null,
   "metadata": {},
   "outputs": [],
   "source": []
  },
  {
   "cell_type": "markdown",
   "metadata": {},
   "source": [
    "## GMM postprocessing"
   ]
  },
  {
   "cell_type": "code",
   "execution_count": null,
   "metadata": {},
   "outputs": [],
   "source": []
  }
 ],
 "metadata": {
  "kernelspec": {
   "display_name": "Python 3 (ipykernel)",
   "language": "python",
   "name": "python3"
  },
  "language_info": {
   "codemirror_mode": {
    "name": "ipython",
    "version": 3
   },
   "file_extension": ".py",
   "mimetype": "text/x-python",
   "name": "python",
   "nbconvert_exporter": "python",
   "pygments_lexer": "ipython3",
   "version": "3.8.12"
  }
 },
 "nbformat": 4,
 "nbformat_minor": 2
}
